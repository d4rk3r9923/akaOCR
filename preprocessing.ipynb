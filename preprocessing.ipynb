{
 "cells": [
  {
   "cell_type": "code",
   "execution_count": null,
   "metadata": {},
   "outputs": [],
   "source": [
    "import os\n",
    "import shutil\n",
    "import glob\n",
    "import random\n",
    "import xml.etree.ElementTree as ET"
   ]
  },
  {
   "cell_type": "code",
   "execution_count": null,
   "metadata": {},
   "outputs": [],
   "source": [
    "images_dir = \"\"\n",
    "xml_dir = \"\"\n",
    "\n",
    "xml_files = [f for f in os.listdir(xml_dir) if f.endswith('.xml')]\n",
    "\n",
    "for xml_file in xml_files:\n",
    "    xml_path = os.path.join(xml_dir, xml_file)\n",
    "    tree = ET.parse(xml_path)\n",
    "    root = tree.getroot()\n",
    "    has_table = any(obj.find('name').text.startswith('table') for obj in root.findall('.//object'))\n",
    "\n",
    "    if not has_table:\n",
    "        image_file = f'{os.path.splitext(xml_file)[0]}.jpg'\n",
    "        image_path = os.path.join(images_dir, image_file)\n",
    "        os.remove(xml_path)\n",
    "        os.remove(image_path)\n",
    "        print(f\"Removed {xml_file} and {image_file}\")\n",
    "\n",
    "print(\"Process completed.\")"
   ]
  },
  {
   "cell_type": "code",
   "execution_count": null,
   "metadata": {},
   "outputs": [],
   "source": [
    "input_folder = \"\"\n",
    "output_folder = \"\"\n",
    "\n",
    "train_ratio = 0.8\n",
    "val_ratio = 0.1\n",
    "test_ratio = 0.1"
   ]
  },
  {
   "cell_type": "code",
   "execution_count": null,
   "metadata": {},
   "outputs": [],
   "source": [
    "xml_files = [f for f in os.listdir(input_folder) if f.endswith('.xml')]\n",
    "\n",
    "num_files = len(xml_files)\n",
    "num_train = int(num_files * train_ratio)\n",
    "num_val = int(num_files * val_ratio)\n",
    "num_test = num_files - num_train - num_val\n",
    "\n",
    "random.shuffle(xml_files)\n",
    "\n",
    "train_files = xml_files[:num_train]\n",
    "val_files = xml_files[num_train:num_train+num_val]\n",
    "test_files = xml_files[-num_test:]\n",
    "\n",
    "os.makedirs(os.path.join(output_folder, 'train'), exist_ok=True)\n",
    "os.makedirs(os.path.join(output_folder, 'val'), exist_ok=True)\n",
    "os.makedirs(os.path.join(output_folder, 'test'), exist_ok=True)\n",
    "\n",
    "for file in train_files:\n",
    "    shutil.move(os.path.join(input_folder, file), os.path.join(output_folder, 'train', file))\n",
    "\n",
    "for file in val_files:\n",
    "    shutil.move(os.path.join(input_folder, file), os.path.join(output_folder, 'val', file))\n",
    "\n",
    "for file in test_files:\n",
    "    shutil.move(os.path.join(input_folder, file), os.path.join(output_folder, 'test', file))"
   ]
  },
  {
   "cell_type": "code",
   "execution_count": null,
   "metadata": {},
   "outputs": [],
   "source": [
    "os.rmdir(input_folder)"
   ]
  },
  {
   "cell_type": "code",
   "execution_count": null,
   "metadata": {},
   "outputs": [],
   "source": [
    "path = 'invoices/data/structure/train/'\n",
    "\n",
    "for filename in glob.glob(os.path.join(path, '*.xml')):\n",
    "    tree = ET.parse(filename)\n",
    "    root = tree.getroot()\n",
    "    for database in root.iter('database'):\n",
    "        database.text = 'PubTables1M-Structure'\n",
    "    tree.write(filename)"
   ]
  }
 ],
 "metadata": {
  "kernelspec": {
   "display_name": "gpu",
   "language": "python",
   "name": "python3"
  },
  "language_info": {
   "codemirror_mode": {
    "name": "ipython",
    "version": 3
   },
   "file_extension": ".py",
   "mimetype": "text/x-python",
   "name": "python",
   "nbconvert_exporter": "python",
   "pygments_lexer": "ipython3",
   "version": "3.9.16"
  }
 },
 "nbformat": 4,
 "nbformat_minor": 2
}
