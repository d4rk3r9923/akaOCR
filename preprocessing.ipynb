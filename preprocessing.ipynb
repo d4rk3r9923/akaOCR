{
 "cells": [
  {
   "cell_type": "code",
   "execution_count": 1,
   "metadata": {},
   "outputs": [],
   "source": [
    "import os\n",
    "import shutil\n",
    "import random\n",
    "import xml.etree.ElementTree as ET"
   ]
  },
  {
   "cell_type": "code",
   "execution_count": 2,
   "metadata": {},
   "outputs": [
    {
     "name": "stdout",
     "output_type": "stream",
     "text": [
      "Process completed.\n"
     ]
    }
   ],
   "source": [
    "# Define the directory paths\n",
    "images_dir = \"data/images/\"\n",
    "xml_dir = \"data/label/\"\n",
    "\n",
    "# Get a list of all XML files\n",
    "xml_files = [f for f in os.listdir(xml_dir) if f.endswith('.xml')]\n",
    "\n",
    "# Loop through each XML file\n",
    "for xml_file in xml_files:\n",
    "    xml_path = os.path.join(xml_dir, xml_file)\n",
    "\n",
    "    # Parse the XML file\n",
    "    tree = ET.parse(xml_path)\n",
    "    root = tree.getroot()\n",
    "\n",
    "    # Check if any object has a label starting with \"table\"\n",
    "    has_table = any(obj.find('name').text.startswith('table') for obj in root.findall('.//object'))\n",
    "\n",
    "    if not has_table:\n",
    "        # If no \"table\" label, remove the corresponding image\n",
    "        image_file = f'{os.path.splitext(xml_file)[0]}.jpg'\n",
    "        image_path = os.path.join(images_dir, image_file)\n",
    "\n",
    "        os.remove(xml_path)  # Remove XML file\n",
    "        os.remove(image_path)  # Remove corresponding image file\n",
    "\n",
    "        print(f\"Removed {xml_file} and {image_file}\")\n",
    "\n",
    "print(\"Process completed.\")"
   ]
  },
  {
   "cell_type": "code",
   "execution_count": 3,
   "metadata": {},
   "outputs": [],
   "source": [
    "# Define paths\n",
    "input_folder = 'data/label/'\n",
    "output_folder = 'data/'\n",
    "\n",
    "# Define split ratios\n",
    "train_ratio = 0.8\n",
    "val_ratio = 0.1\n",
    "test_ratio = 0.1"
   ]
  },
  {
   "cell_type": "code",
   "execution_count": 4,
   "metadata": {},
   "outputs": [],
   "source": [
    "# Get a list of all XML files in the input folder\n",
    "xml_files = [f for f in os.listdir(input_folder) if f.endswith('.xml')]\n",
    "\n",
    "# Calculate the number of files for each split\n",
    "num_files = len(xml_files)\n",
    "num_train = int(num_files * train_ratio)\n",
    "num_val = int(num_files * val_ratio)\n",
    "num_test = num_files - num_train - num_val\n",
    "\n",
    "# Shuffle the list of XML files\n",
    "random.shuffle(xml_files)\n",
    "\n",
    "# Split the files\n",
    "train_files = xml_files[:num_train]\n",
    "val_files = xml_files[num_train:num_train+num_val]\n",
    "test_files = xml_files[-num_test:]\n",
    "\n",
    "# Create output folders if they don't exist\n",
    "os.makedirs(os.path.join(output_folder, 'train'), exist_ok=True)\n",
    "os.makedirs(os.path.join(output_folder, 'val'), exist_ok=True)\n",
    "os.makedirs(os.path.join(output_folder, 'test'), exist_ok=True)\n",
    "\n",
    "# Move files to respective folders\n",
    "for file in train_files:\n",
    "    shutil.move(os.path.join(input_folder, file), os.path.join(output_folder, 'train', file))\n",
    "\n",
    "for file in val_files:\n",
    "    shutil.move(os.path.join(input_folder, file), os.path.join(output_folder, 'val', file))\n",
    "\n",
    "for file in test_files:\n",
    "    shutil.move(os.path.join(input_folder, file), os.path.join(output_folder, 'test', file))"
   ]
  },
  {
   "cell_type": "code",
   "execution_count": 5,
   "metadata": {},
   "outputs": [],
   "source": [
    "os.rmdir(input_folder)"
   ]
  }
 ],
 "metadata": {
  "kernelspec": {
   "display_name": "gpu",
   "language": "python",
   "name": "python3"
  },
  "language_info": {
   "codemirror_mode": {
    "name": "ipython",
    "version": 3
   },
   "file_extension": ".py",
   "mimetype": "text/x-python",
   "name": "python",
   "nbconvert_exporter": "python",
   "pygments_lexer": "ipython3",
   "version": "3.9.16"
  }
 },
 "nbformat": 4,
 "nbformat_minor": 2
}
