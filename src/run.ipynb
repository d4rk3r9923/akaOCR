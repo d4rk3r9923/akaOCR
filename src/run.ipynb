{
 "cells": [
  {
   "cell_type": "code",
   "execution_count": null,
   "metadata": {},
   "outputs": [],
   "source": [
    "!python main.py --data_type detection --config_file detection_config.json --data_root_dir \"../data/\" --model_load_path \"../akaOCR/pubtables1m_detection_detr_r18.pth\" --load_weights_only"
   ]
  },
  {
   "cell_type": "code",
   "execution_count": null,
   "metadata": {},
   "outputs": [],
   "source": [
    "!python main.py --mode eval --data_type detection --config_file detection_config.json --data_root_dir \"../data\" --model_load_path \"../akaOCR/invoice_detection.pth\""
   ]
  },
  {
   "cell_type": "code",
   "execution_count": null,
   "metadata": {},
   "outputs": [],
   "source": [
    "!python main.py --data_type structure --config_file structure_config.json --data_root_dir \"../data/\" --model_load_path \"../akaOCR/pubtables1m_structure_detr_r18.pth\" --load_weights_only"
   ]
  }
 ],
 "metadata": {
  "kernelspec": {
   "display_name": "gpu",
   "language": "python",
   "name": "python3"
  },
  "language_info": {
   "codemirror_mode": {
    "name": "ipython",
    "version": 3
   },
   "file_extension": ".py",
   "mimetype": "text/x-python",
   "name": "python",
   "nbconvert_exporter": "python",
   "pygments_lexer": "ipython3",
   "version": "3.9.16"
  }
 },
 "nbformat": 4,
 "nbformat_minor": 2
}
