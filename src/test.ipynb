{
 "cells": [
  {
   "cell_type": "code",
   "execution_count": null,
   "metadata": {},
   "outputs": [],
   "source": [
    "import os\n",
    "os.environ[\"KMP_DUPLICATE_LIB_OK\"] = \"TRUE\"\n",
    "import pprint\n",
    "pp = pprint.PrettyPrinter()\n",
    "import warnings\n",
    "warnings.filterwarnings(\"ignore\")\n",
    "import matplotlib.pyplot as plt\n",
    "from inference import TableExtractionPipeline, visualize_detected_tables, visualize_recognized_tables, visualize_cells\n",
    "from PIL import Image"
   ]
  },
  {
   "cell_type": "code",
   "execution_count": null,
   "metadata": {},
   "outputs": [],
   "source": [
    "img = Image.open('../invoices/data/inference/images/invoice_111.png').convert('RGB')\n",
    "pipe = TableExtractionPipeline(det_config_path='detection_config.json', det_model_path='../invoices/models/invoice_detection.pth', det_device='cuda',\n",
    "                            str_config_path='structure_config.json', str_model_path='../invoices/models/invoice_structure.pth', str_device='cuda')"
   ]
  },
  {
   "cell_type": "code",
   "execution_count": null,
   "metadata": {},
   "outputs": [],
   "source": [
    "detected_tables = pipe.detect(img, tokens=[], out_objects=True, out_crops=True)"
   ]
  },
  {
   "cell_type": "code",
   "execution_count": null,
   "metadata": {},
   "outputs": [],
   "source": [
    "detected_objects = detected_tables['objects']\n",
    "detected_crops = detected_tables['crops']"
   ]
  },
  {
   "cell_type": "code",
   "execution_count": null,
   "metadata": {},
   "outputs": [],
   "source": [
    "visualize_detected_tables(img, detected_objects, \"output/detected_objects.png\")\n",
    "pp.pprint(detected_objects)"
   ]
  },
  {
   "cell_type": "code",
   "execution_count": null,
   "metadata": {},
   "outputs": [],
   "source": [
    "for i in range(0, len(detected_crops)):\n",
    "    plt.imshow(detected_crops[i]['image'])\n",
    "    plt.axis('off')\n",
    "    plt.show()"
   ]
  },
  {
   "cell_type": "code",
   "execution_count": null,
   "metadata": {},
   "outputs": [],
   "source": [
    "img = detected_crops[1]['image']"
   ]
  },
  {
   "cell_type": "code",
   "execution_count": null,
   "metadata": {},
   "outputs": [],
   "source": [
    "recognized_tables = pipe.recognize(img, tokens=[], out_objects=True, out_cells=True)"
   ]
  },
  {
   "cell_type": "code",
   "execution_count": null,
   "metadata": {},
   "outputs": [],
   "source": [
    "recognized_objects = recognized_tables['objects']\n",
    "recognized_cells = recognized_tables['cells'][0]"
   ]
  },
  {
   "cell_type": "code",
   "execution_count": null,
   "metadata": {},
   "outputs": [],
   "source": [
    "visualize_recognized_tables(img, recognized_objects, \"output/recognized_objects.png\")\n",
    "pp.pprint(recognized_objects)"
   ]
  },
  {
   "cell_type": "code",
   "execution_count": null,
   "metadata": {},
   "outputs": [],
   "source": [
    "visualize_cells(img, recognized_cells, \"output/recognized_cells.png\")\n",
    "pp.pprint(recognized_cells)"
   ]
  }
 ],
 "metadata": {
  "kernelspec": {
   "display_name": "gpu",
   "language": "python",
   "name": "python3"
  },
  "language_info": {
   "codemirror_mode": {
    "name": "ipython",
    "version": 3
   },
   "file_extension": ".py",
   "mimetype": "text/x-python",
   "name": "python",
   "nbconvert_exporter": "python",
   "pygments_lexer": "ipython3",
   "version": "3.9.16"
  }
 },
 "nbformat": 4,
 "nbformat_minor": 2
}
